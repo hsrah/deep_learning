{
  "nbformat": 4,
  "nbformat_minor": 0,
  "metadata": {
    "colab": {
      "name": "Untitled1.ipynb",
      "provenance": [],
      "collapsed_sections": [],
      "authorship_tag": "ABX9TyN8aegWxvPGo6FulGv5YuRa",
      "include_colab_link": true
    },
    "kernelspec": {
      "name": "python3",
      "display_name": "Python 3"
    }
  },
  "cells": [
    {
      "cell_type": "markdown",
      "metadata": {
        "id": "view-in-github",
        "colab_type": "text"
      },
      "source": [
        "<a href=\"https://colab.research.google.com/github/hsrah/deep_learning/blob/master/stock_predict.ipynb\" target=\"_parent\"><img src=\"https://colab.research.google.com/assets/colab-badge.svg\" alt=\"Open In Colab\"/></a>"
      ]
    },
    {
      "cell_type": "code",
      "metadata": {
        "id": "ZlT-NW8Zwlv9",
        "colab_type": "code",
        "colab": {}
      },
      "source": [
        ""
      ],
      "execution_count": 0,
      "outputs": []
    },
    {
      "cell_type": "markdown",
      "metadata": {
        "id": "tVC6IXRmwyR8",
        "colab_type": "text"
      },
      "source": [
        "# Predicting closing price\n"
      ]
    },
    {
      "cell_type": "markdown",
      "metadata": {
        "id": "vhdrhi2cwwpd",
        "colab_type": "text"
      },
      "source": [
        "1. Upload dataset from your local drive to colab\n",
        "2. Importing the packages\n",
        "3. Reading the dataset\n",
        "4. Exploring the data\n",
        "5. Importing more packages for prediction\n",
        "6. Train Test Split\n",
        "7. Building the model\n",
        "8. Prediction on ts_test\n",
        "9. Prediction with Test data"
      ]
    },
    {
      "cell_type": "markdown",
      "metadata": {
        "id": "y-a0z4T0xezK",
        "colab_type": "text"
      },
      "source": [
        "# Upload dataset from your local drive to colab"
      ]
    },
    {
      "cell_type": "markdown",
      "metadata": {
        "id": "8AtU8pH1xbkZ",
        "colab_type": "text"
      },
      "source": [
        ""
      ]
    },
    {
      "cell_type": "code",
      "metadata": {
        "colab_type": "code",
        "id": "i3u2CZRMxkGe",
        "colab": {
          "base_uri": "https://localhost:8080/",
          "height": 411
        },
        "outputId": "66c4f7b6-d16f-4da4-d586-bdcd1b85bd8f"
      },
      "source": [
        "!wget \"https://raw.githubusercontent.com/UpXDataScience/FA-Bootcamp/master/Day4/Uniqlo(FastRetailing)%202012-2016%20Training%20-%20stocks2012-2016.csv\"\n",
        "!wget \"https://raw.githubusercontent.com/UpXDataScience/FA-Bootcamp/master/Day4/Uniqlo(FastRetailing)%202017%20Test%20-%20stocks2017.csv\""
      ],
      "execution_count": 1,
      "outputs": [
        {
          "output_type": "stream",
          "text": [
            "--2020-04-19 14:13:05--  https://raw.githubusercontent.com/UpXDataScience/FA-Bootcamp/master/Day4/Uniqlo(FastRetailing)%202012-2016%20Training%20-%20stocks2012-2016.csv\n",
            "Resolving raw.githubusercontent.com (raw.githubusercontent.com)... 151.101.0.133, 151.101.64.133, 151.101.128.133, ...\n",
            "Connecting to raw.githubusercontent.com (raw.githubusercontent.com)|151.101.0.133|:443... connected.\n",
            "HTTP request sent, awaiting response... 200 OK\n",
            "Length: 67529 (66K) [text/plain]\n",
            "Saving to: ‘Uniqlo(FastRetailing) 2012-2016 Training - stocks2012-2016.csv’\n",
            "\n",
            "\r          Uniqlo(Fa   0%[                    ]       0  --.-KB/s               \rUniqlo(FastRetailin 100%[===================>]  65.95K  --.-KB/s    in 0.01s   \n",
            "\n",
            "2020-04-19 14:13:05 (4.53 MB/s) - ‘Uniqlo(FastRetailing) 2012-2016 Training - stocks2012-2016.csv’ saved [67529/67529]\n",
            "\n",
            "--2020-04-19 14:13:11--  https://raw.githubusercontent.com/UpXDataScience/FA-Bootcamp/master/Day4/Uniqlo(FastRetailing)%202017%20Test%20-%20stocks2017.csv\n",
            "Resolving raw.githubusercontent.com (raw.githubusercontent.com)... 151.101.0.133, 151.101.64.133, 151.101.128.133, ...\n",
            "Connecting to raw.githubusercontent.com (raw.githubusercontent.com)|151.101.0.133|:443... connected.\n",
            "HTTP request sent, awaiting response... 200 OK\n",
            "Length: 433 [text/plain]\n",
            "Saving to: ‘Uniqlo(FastRetailing) 2017 Test - stocks2017.csv’\n",
            "\n",
            "Uniqlo(FastRetailin 100%[===================>]     433  --.-KB/s    in 0s      \n",
            "\n",
            "2020-04-19 14:13:11 (84.7 MB/s) - ‘Uniqlo(FastRetailing) 2017 Test - stocks2017.csv’ saved [433/433]\n",
            "\n"
          ],
          "name": "stdout"
        }
      ]
    },
    {
      "cell_type": "code",
      "metadata": {
        "id": "kmWlYoNgyLyU",
        "colab_type": "code",
        "colab": {
          "base_uri": "https://localhost:8080/",
          "height": 71
        },
        "outputId": "3ffa7fbb-1ff9-4a1b-9457-e86f7f3bb9bc"
      },
      "source": [
        "import pandas as pd\n",
        "import matplotlib.pyplot as plt\n",
        "import numpy as np\n",
        "import seaborn as sns\n"
      ],
      "execution_count": 27,
      "outputs": [
        {
          "output_type": "stream",
          "text": [
            "/usr/local/lib/python3.6/dist-packages/statsmodels/tools/_testing.py:19: FutureWarning: pandas.util.testing is deprecated. Use the functions in the public API at pandas.testing instead.\n",
            "  import pandas.util.testing as tm\n"
          ],
          "name": "stderr"
        }
      ]
    },
    {
      "cell_type": "code",
      "metadata": {
        "id": "lGd1IN6GysHB",
        "colab_type": "code",
        "colab": {}
      },
      "source": [
        "df=pd.read_csv(\"Uniqlo(FastRetailing) 2012-2016 Training - stocks2012-2016.csv\")"
      ],
      "execution_count": 0,
      "outputs": []
    },
    {
      "cell_type": "code",
      "metadata": {
        "id": "EC2l-Svqy2zM",
        "colab_type": "code",
        "colab": {
          "base_uri": "https://localhost:8080/",
          "height": 204
        },
        "outputId": "d5f0999c-d5ec-41e9-c488-8e98f50b14ca"
      },
      "source": [
        "df.head()"
      ],
      "execution_count": 5,
      "outputs": [
        {
          "output_type": "execute_result",
          "data": {
            "text/html": [
              "<div>\n",
              "<style scoped>\n",
              "    .dataframe tbody tr th:only-of-type {\n",
              "        vertical-align: middle;\n",
              "    }\n",
              "\n",
              "    .dataframe tbody tr th {\n",
              "        vertical-align: top;\n",
              "    }\n",
              "\n",
              "    .dataframe thead th {\n",
              "        text-align: right;\n",
              "    }\n",
              "</style>\n",
              "<table border=\"1\" class=\"dataframe\">\n",
              "  <thead>\n",
              "    <tr style=\"text-align: right;\">\n",
              "      <th></th>\n",
              "      <th>Date</th>\n",
              "      <th>Open</th>\n",
              "      <th>High</th>\n",
              "      <th>Low</th>\n",
              "      <th>Close</th>\n",
              "      <th>Volume</th>\n",
              "      <th>Stock Trading</th>\n",
              "    </tr>\n",
              "  </thead>\n",
              "  <tbody>\n",
              "    <tr>\n",
              "      <th>0</th>\n",
              "      <td>2016-12-30</td>\n",
              "      <td>42120</td>\n",
              "      <td>42330</td>\n",
              "      <td>41700</td>\n",
              "      <td>41830</td>\n",
              "      <td>610000</td>\n",
              "      <td>25628028000</td>\n",
              "    </tr>\n",
              "    <tr>\n",
              "      <th>1</th>\n",
              "      <td>2016-12-29</td>\n",
              "      <td>43000</td>\n",
              "      <td>43220</td>\n",
              "      <td>42540</td>\n",
              "      <td>42660</td>\n",
              "      <td>448400</td>\n",
              "      <td>19188227000</td>\n",
              "    </tr>\n",
              "    <tr>\n",
              "      <th>2</th>\n",
              "      <td>2016-12-28</td>\n",
              "      <td>43940</td>\n",
              "      <td>43970</td>\n",
              "      <td>43270</td>\n",
              "      <td>43270</td>\n",
              "      <td>339900</td>\n",
              "      <td>14780670000</td>\n",
              "    </tr>\n",
              "    <tr>\n",
              "      <th>3</th>\n",
              "      <td>2016-12-27</td>\n",
              "      <td>43140</td>\n",
              "      <td>43700</td>\n",
              "      <td>43140</td>\n",
              "      <td>43620</td>\n",
              "      <td>400100</td>\n",
              "      <td>17427993000</td>\n",
              "    </tr>\n",
              "    <tr>\n",
              "      <th>4</th>\n",
              "      <td>2016-12-26</td>\n",
              "      <td>43310</td>\n",
              "      <td>43660</td>\n",
              "      <td>43090</td>\n",
              "      <td>43340</td>\n",
              "      <td>358200</td>\n",
              "      <td>15547803000</td>\n",
              "    </tr>\n",
              "  </tbody>\n",
              "</table>\n",
              "</div>"
            ],
            "text/plain": [
              "         Date   Open   High    Low  Close  Volume  Stock Trading\n",
              "0  2016-12-30  42120  42330  41700  41830  610000    25628028000\n",
              "1  2016-12-29  43000  43220  42540  42660  448400    19188227000\n",
              "2  2016-12-28  43940  43970  43270  43270  339900    14780670000\n",
              "3  2016-12-27  43140  43700  43140  43620  400100    17427993000\n",
              "4  2016-12-26  43310  43660  43090  43340  358200    15547803000"
            ]
          },
          "metadata": {
            "tags": []
          },
          "execution_count": 5
        }
      ]
    },
    {
      "cell_type": "code",
      "metadata": {
        "id": "HDeqM4gEzMMd",
        "colab_type": "code",
        "colab": {
          "base_uri": "https://localhost:8080/",
          "height": 170
        },
        "outputId": "d6681eb9-b49d-4e1c-af12-857514f20585"
      },
      "source": [
        "stock_df = df[['Date', 'Close']]\n",
        "stock_df.info()"
      ],
      "execution_count": 20,
      "outputs": [
        {
          "output_type": "stream",
          "text": [
            "<class 'pandas.core.frame.DataFrame'>\n",
            "RangeIndex: 1226 entries, 0 to 1225\n",
            "Data columns (total 2 columns):\n",
            " #   Column  Non-Null Count  Dtype \n",
            "---  ------  --------------  ----- \n",
            " 0   Date    1226 non-null   object\n",
            " 1   Close   1226 non-null   int64 \n",
            "dtypes: int64(1), object(1)\n",
            "memory usage: 19.3+ KB\n"
          ],
          "name": "stdout"
        }
      ]
    },
    {
      "cell_type": "markdown",
      "metadata": {
        "id": "P2xqVIx80UTb",
        "colab_type": "text"
      },
      "source": [
        "we need to convert object to datetine format\n"
      ]
    },
    {
      "cell_type": "code",
      "metadata": {
        "id": "ezhxd2wj0X05",
        "colab_type": "code",
        "colab": {
          "base_uri": "https://localhost:8080/",
          "height": 119
        },
        "outputId": "9f45d50f-677c-4ce5-8c9d-af3cc6a6ced1"
      },
      "source": [
        "stock_df['Date'] = pd.to_datetime(stock_df['Date'])"
      ],
      "execution_count": 21,
      "outputs": [
        {
          "output_type": "stream",
          "text": [
            "/usr/local/lib/python3.6/dist-packages/ipykernel_launcher.py:1: SettingWithCopyWarning: \n",
            "A value is trying to be set on a copy of a slice from a DataFrame.\n",
            "Try using .loc[row_indexer,col_indexer] = value instead\n",
            "\n",
            "See the caveats in the documentation: https://pandas.pydata.org/pandas-docs/stable/user_guide/indexing.html#returning-a-view-versus-a-copy\n",
            "  \"\"\"Entry point for launching an IPython kernel.\n"
          ],
          "name": "stderr"
        }
      ]
    },
    {
      "cell_type": "code",
      "metadata": {
        "id": "wZGh5Y3w05zH",
        "colab_type": "code",
        "colab": {
          "base_uri": "https://localhost:8080/",
          "height": 170
        },
        "outputId": "1e280d2a-4419-494f-9603-387854087286"
      },
      "source": [
        "stock_df.info()"
      ],
      "execution_count": 22,
      "outputs": [
        {
          "output_type": "stream",
          "text": [
            "<class 'pandas.core.frame.DataFrame'>\n",
            "RangeIndex: 1226 entries, 0 to 1225\n",
            "Data columns (total 2 columns):\n",
            " #   Column  Non-Null Count  Dtype         \n",
            "---  ------  --------------  -----         \n",
            " 0   Date    1226 non-null   datetime64[ns]\n",
            " 1   Close   1226 non-null   int64         \n",
            "dtypes: datetime64[ns](1), int64(1)\n",
            "memory usage: 19.3 KB\n"
          ],
          "name": "stdout"
        }
      ]
    },
    {
      "cell_type": "code",
      "metadata": {
        "id": "syhH7lIb2LuO",
        "colab_type": "code",
        "colab": {}
      },
      "source": [
        "stock_df.set_index('Date', inplace=True)"
      ],
      "execution_count": 0,
      "outputs": []
    },
    {
      "cell_type": "code",
      "metadata": {
        "id": "C-H_IA-72rkV",
        "colab_type": "code",
        "colab": {
          "base_uri": "https://localhost:8080/",
          "height": 255
        },
        "outputId": "598af092-135d-447c-9bd2-bcffcda89f2c"
      },
      "source": [
        "print(stock_df.head())\n",
        "print(stock_df.tail())"
      ],
      "execution_count": 26,
      "outputs": [
        {
          "output_type": "stream",
          "text": [
            "            Close\n",
            "Date             \n",
            "2016-12-30  41830\n",
            "2016-12-29  42660\n",
            "2016-12-28  43270\n",
            "2016-12-27  43620\n",
            "2016-12-26  43340\n",
            "            Close\n",
            "Date             \n",
            "2012-01-11  14590\n",
            "2012-01-10  14390\n",
            "2012-01-06  13850\n",
            "2012-01-05  13800\n",
            "2012-01-04  13720\n"
          ],
          "name": "stdout"
        }
      ]
    },
    {
      "cell_type": "markdown",
      "metadata": {
        "id": "_GeRmbZR3G4I",
        "colab_type": "text"
      },
      "source": [
        "we have data form 4th JAN 2012 to 30 Dec 2016\n"
      ]
    },
    {
      "cell_type": "code",
      "metadata": {
        "id": "mvFF6b4V3GAO",
        "colab_type": "code",
        "colab": {
          "base_uri": "https://localhost:8080/",
          "height": 514
        },
        "outputId": "3ddd0c9f-8b5a-47a8-ce01-c3a7d148dc4a"
      },
      "source": [
        "#check graph of price \n",
        "plt.figure(figsize=[10,8])      \n",
        "sns.lineplot(data=stock_df)"
      ],
      "execution_count": 29,
      "outputs": [
        {
          "output_type": "execute_result",
          "data": {
            "text/plain": [
              "<matplotlib.axes._subplots.AxesSubplot at 0x7f0577066240>"
            ]
          },
          "metadata": {
            "tags": []
          },
          "execution_count": 29
        },
        {
          "output_type": "display_data",
          "data": {
            "image/png": "[encoded data removed]",
            "text/plain": [
              "<Figure size 720x576 with 1 Axes>"
            ]
          },
          "metadata": {
            "tags": [],
            "needs_background": "light"
          }
        }
      ]
    },
    {
      "cell_type": "markdown",
      "metadata": {
        "id": "kPeZrY9I5umG",
        "colab_type": "text"
      },
      "source": [
        "# Model create"
      ]
    },
    {
      "cell_type": "code",
      "metadata": {
        "id": "lgW9ounQ5zTw",
        "colab_type": "code",
        "colab": {}
      },
      "source": [
        "from keras.layers import LSTM, Dense\n",
        "from keras.models import Sequential\n",
        "from sklearn.preprocessing import MinMaxScaler\n",
        "min_max_scalar = MinMaxScaler()"
      ],
      "execution_count": 0,
      "outputs": []
    },
    {
      "cell_type": "code",
      "metadata": {
        "id": "zzmkarD7dZVo",
        "colab_type": "code",
        "colab": {}
      },
      "source": [
        "duration = 30 # we are splitting data of last 30 days as test and other days as train\n",
        "ds_train = stock_df[duration:]\n",
        "ds_test = stock_df[:duration]"
      ],
      "execution_count": 0,
      "outputs": []
    },
    {
      "cell_type": "code",
      "metadata": {
        "id": "M945AnjweLYJ",
        "colab_type": "code",
        "colab": {
          "base_uri": "https://localhost:8080/",
          "height": 170
        },
        "outputId": "a15a7824-ef7f-43ad-c212-d99710c623ed"
      },
      "source": [
        "print(ds_train.shape)\n",
        "print(ds_test.shape)\n",
        "\n",
        "print(ds_test.head)"
      ],
      "execution_count": 34,
      "outputs": [
        {
          "output_type": "stream",
          "text": [
            "(1196, 1)\n",
            "(30, 1)\n",
            "            Close\n",
            "Date             \n",
            "2016-12-30  41830\n",
            "2016-12-29  42660\n",
            "2016-12-28  43270\n",
            "2016-12-27  43620\n",
            "2016-12-26  43340\n"
          ],
          "name": "stdout"
        }
      ]
    },
    {
      "cell_type": "code",
      "metadata": {
        "colab_type": "code",
        "id": "YcSi-SGZhtRR",
        "colab": {}
      },
      "source": [
        "min_max_scalar.fit(ds_train.values)\n",
        "training = min_max_scalar.transform(ds_train.values);\n",
        "\n",
        "\n"
      ],
      "execution_count": 0,
      "outputs": []
    },
    {
      "cell_type": "markdown",
      "metadata": {
        "id": "jvonczZJiq17",
        "colab_type": "text"
      },
      "source": [
        "Here we will predict tomorrow price based on todays stock price.\n",
        "IP and OP variable are same that is scaled closing price.\n",
        "so we will map something like this.\n",
        "X  => Y\n",
        "10 => 20\n",
        "20 => 30\n",
        "30 => 40 \n",
        "...\n",
        "\n",
        "where 10 is for ex 21st Jan price then 20 is 22nd Jan.\n",
        "X is input and Y is outpit.\n"
      ]
    },
    {
      "cell_type": "code",
      "metadata": {
        "id": "kSDAgZ2ojZkQ",
        "colab_type": "code",
        "colab": {
          "base_uri": "https://localhost:8080/",
          "height": 204
        },
        "outputId": "e09294f5-87c5-456f-9ef1-e8b4f2b812a5"
      },
      "source": [
        "x_train = training[0:len(training) - 1]\n",
        "y_train = training[1:len(training)]\n",
        "print(x_train[:5])\n",
        "print(y_train[:5])\n",
        "print(len(x_train), len(y_train))"
      ],
      "execution_count": 42,
      "outputs": [
        {
          "output_type": "stream",
          "text": [
            "[[0.53266957]\n",
            " [0.51545323]\n",
            " [0.51566065]\n",
            " [0.49533292]\n",
            " [0.48060568]]\n",
            "[[0.51545323]\n",
            " [0.51566065]\n",
            " [0.49533292]\n",
            " [0.48060568]\n",
            " [0.41402199]]\n",
            "1195 1195\n"
          ],
          "name": "stdout"
        }
      ]
    },
    {
      "cell_type": "markdown",
      "metadata": {
        "id": "AGBq7DDQkbiF",
        "colab_type": "text"
      },
      "source": [
        "We need to reshape before passing to Neural Network"
      ]
    },
    {
      "cell_type": "code",
      "metadata": {
        "id": "HOXdWxwvk0ml",
        "colab_type": "code",
        "colab": {}
      },
      "source": [
        "x_train = np.reshape(x_train, (len(x_train),1,1)) # to make it 3D"
      ],
      "execution_count": 0,
      "outputs": []
    },
    {
      "cell_type": "code",
      "metadata": {
        "id": "GadmiX6ClPSn",
        "colab_type": "code",
        "colab": {
          "base_uri": "https://localhost:8080/",
          "height": 34
        },
        "outputId": "d3e11846-da48-4794-936c-a07d56e35508"
      },
      "source": [
        "x_train.shape"
      ],
      "execution_count": 46,
      "outputs": [
        {
          "output_type": "execute_result",
          "data": {
            "text/plain": [
              "(1195, 1, 1)"
            ]
          },
          "metadata": {
            "tags": []
          },
          "execution_count": 46
        }
      ]
    },
    {
      "cell_type": "code",
      "metadata": {
        "id": "fozeTAgqlVS_",
        "colab_type": "code",
        "colab": {}
      },
      "source": [
        "num_units = 64 #Hyper parameter for input features i.e no of neurons\n",
        "optimizer = 'adam'\n",
        "activation = 'sigmoid' # Bring non linearity and op between 0 and 1\n",
        "loss_func = 'mean_squared_error'\n",
        "batch_size = 5 # feed 5 rows at once\n",
        "num_epoch = 50 "
      ],
      "execution_count": 0,
      "outputs": []
    },
    {
      "cell_type": "code",
      "metadata": {
        "id": "BKkDVo-LmC8i",
        "colab_type": "code",
        "colab": {
          "base_uri": "https://localhost:8080/",
          "height": 1000
        },
        "outputId": "c4d13292-e11c-4370-c2da-e433d72ff5ef"
      },
      "source": [
        "regressor = Sequential()\n",
        "# Adding the input layer and the LSTM layer\n",
        "regressor.add(LSTM(units = num_units, activation = activation, input_shape=(None, 1))) #None for code can be used for any dimensions\n",
        "\n",
        "# Adding the output layer\n",
        "regressor.add(Dense(units = 1)) # as op variable is 1\n",
        "\n",
        "# Compiling the RNN\n",
        "regressor.compile(optimizer = optimizer, loss = loss_func)\n",
        "\n",
        "# Using the training set to train the model\n",
        "regressor.fit(x_train, y_train, batch_size = batch_size, epochs = num_epoch)"
      ],
      "execution_count": 48,
      "outputs": [
        {
          "output_type": "stream",
          "text": [
            "Epoch 1/50\n",
            "1195/1195 [==============================] - 1s 757us/step - loss: 0.0512\n",
            "Epoch 2/50\n",
            "1195/1195 [==============================] - 0s 333us/step - loss: 0.0232\n",
            "Epoch 3/50\n",
            "1195/1195 [==============================] - 0s 331us/step - loss: 0.0105\n",
            "Epoch 4/50\n",
            "1195/1195 [==============================] - 0s 339us/step - loss: 0.0036\n",
            "Epoch 5/50\n",
            "1195/1195 [==============================] - 0s 334us/step - loss: 0.0010\n",
            "Epoch 6/50\n",
            "1195/1195 [==============================] - 0s 322us/step - loss: 4.0034e-04\n",
            "Epoch 7/50\n",
            "1195/1195 [==============================] - 0s 330us/step - loss: 3.2672e-04\n",
            "Epoch 8/50\n",
            "1195/1195 [==============================] - 0s 322us/step - loss: 3.2247e-04\n",
            "Epoch 9/50\n",
            "1195/1195 [==============================] - 0s 325us/step - loss: 3.2740e-04\n",
            "Epoch 10/50\n",
            "1195/1195 [==============================] - 0s 338us/step - loss: 3.1976e-04\n",
            "Epoch 11/50\n",
            "1195/1195 [==============================] - 0s 326us/step - loss: 3.2684e-04\n",
            "Epoch 12/50\n",
            "1195/1195 [==============================] - 0s 347us/step - loss: 3.2080e-04\n",
            "Epoch 13/50\n",
            "1195/1195 [==============================] - 0s 323us/step - loss: 3.2997e-04\n",
            "Epoch 14/50\n",
            "1195/1195 [==============================] - 0s 340us/step - loss: 3.5061e-04\n",
            "Epoch 15/50\n",
            "1195/1195 [==============================] - 0s 338us/step - loss: 3.6994e-04\n",
            "Epoch 16/50\n",
            "1195/1195 [==============================] - 0s 338us/step - loss: 3.7070e-04\n",
            "Epoch 17/50\n",
            "1195/1195 [==============================] - 0s 334us/step - loss: 3.3274e-04\n",
            "Epoch 18/50\n",
            "1195/1195 [==============================] - 0s 327us/step - loss: 3.4347e-04\n",
            "Epoch 19/50\n",
            "1195/1195 [==============================] - 0s 326us/step - loss: 3.8732e-04\n",
            "Epoch 20/50\n",
            "1195/1195 [==============================] - 0s 334us/step - loss: 3.6451e-04\n",
            "Epoch 21/50\n",
            "1195/1195 [==============================] - 0s 329us/step - loss: 3.5430e-04\n",
            "Epoch 22/50\n",
            "1195/1195 [==============================] - 0s 339us/step - loss: 3.4423e-04\n",
            "Epoch 23/50\n",
            "1195/1195 [==============================] - 0s 328us/step - loss: 3.6734e-04\n",
            "Epoch 24/50\n",
            "1195/1195 [==============================] - 0s 340us/step - loss: 3.7360e-04\n",
            "Epoch 25/50\n",
            "1195/1195 [==============================] - 0s 338us/step - loss: 3.9073e-04\n",
            "Epoch 26/50\n",
            "1195/1195 [==============================] - 0s 335us/step - loss: 3.5251e-04\n",
            "Epoch 27/50\n",
            "1195/1195 [==============================] - 0s 336us/step - loss: 3.7135e-04\n",
            "Epoch 28/50\n",
            "1195/1195 [==============================] - 0s 329us/step - loss: 3.5628e-04\n",
            "Epoch 29/50\n",
            "1195/1195 [==============================] - 0s 328us/step - loss: 3.5338e-04\n",
            "Epoch 30/50\n",
            "1195/1195 [==============================] - 0s 336us/step - loss: 3.6010e-04\n",
            "Epoch 31/50\n",
            "1195/1195 [==============================] - 0s 334us/step - loss: 3.6143e-04\n",
            "Epoch 32/50\n",
            "1195/1195 [==============================] - 0s 338us/step - loss: 3.9950e-04\n",
            "Epoch 33/50\n",
            "1195/1195 [==============================] - 0s 340us/step - loss: 3.7610e-04\n",
            "Epoch 34/50\n",
            "1195/1195 [==============================] - 0s 333us/step - loss: 3.4456e-04\n",
            "Epoch 35/50\n",
            "1195/1195 [==============================] - 0s 343us/step - loss: 3.5420e-04\n",
            "Epoch 36/50\n",
            "1195/1195 [==============================] - 0s 339us/step - loss: 3.4553e-04\n",
            "Epoch 37/50\n",
            "1195/1195 [==============================] - 0s 336us/step - loss: 3.6686e-04\n",
            "Epoch 38/50\n",
            "1195/1195 [==============================] - 0s 347us/step - loss: 3.7658e-04\n",
            "Epoch 39/50\n",
            "1195/1195 [==============================] - 0s 333us/step - loss: 3.7682e-04\n",
            "Epoch 40/50\n",
            "1195/1195 [==============================] - 0s 337us/step - loss: 3.5057e-04\n",
            "Epoch 41/50\n",
            "1195/1195 [==============================] - 0s 323us/step - loss: 4.0893e-04\n",
            "Epoch 42/50\n",
            "1195/1195 [==============================] - 0s 335us/step - loss: 3.9983e-04\n",
            "Epoch 43/50\n",
            "1195/1195 [==============================] - 0s 333us/step - loss: 3.6567e-04\n",
            "Epoch 44/50\n",
            "1195/1195 [==============================] - 0s 331us/step - loss: 3.5525e-04\n",
            "Epoch 45/50\n",
            "1195/1195 [==============================] - 0s 331us/step - loss: 3.5354e-04\n",
            "Epoch 46/50\n",
            "1195/1195 [==============================] - 0s 333us/step - loss: 3.7580e-04\n",
            "Epoch 47/50\n",
            "1195/1195 [==============================] - 0s 336us/step - loss: 3.4573e-04\n",
            "Epoch 48/50\n",
            "1195/1195 [==============================] - 0s 339us/step - loss: 3.6173e-04\n",
            "Epoch 49/50\n",
            "1195/1195 [==============================] - 0s 346us/step - loss: 3.6302e-04\n",
            "Epoch 50/50\n",
            "1195/1195 [==============================] - 0s 331us/step - loss: 3.7795e-04\n"
          ],
          "name": "stdout"
        },
        {
          "output_type": "execute_result",
          "data": {
            "text/plain": [
              "<keras.callbacks.callbacks.History at 0x7f04efc7a860>"
            ]
          },
          "metadata": {
            "tags": []
          },
          "execution_count": 48
        }
      ]
    },
    {
      "cell_type": "markdown",
      "metadata": {
        "id": "0BfdMP71o_67",
        "colab_type": "text"
      },
      "source": [
        "Prediction on test dataset"
      ]
    },
    {
      "cell_type": "code",
      "metadata": {
        "id": "lRGZeP6ipC8x",
        "colab_type": "code",
        "colab": {}
      },
      "source": [
        "testing = min_max_scalar.fit_transform(ds_test.values) #transform min max\n",
        "input_testing = np.reshape(testing, (len(testing),1,1)) # reshape for RNN ip\n",
        "predicted_price = regressor.predict(input_testing)                              # Make predictions on the test data\n",
        "predicted_price = min_max_scalar.inverse_transform(predicted_price)      # Inverse transform the predicted price\n"
      ],
      "execution_count": 0,
      "outputs": []
    },
    {
      "cell_type": "code",
      "metadata": {
        "id": "O1UsUxz9qghY",
        "colab_type": "code",
        "colab": {
          "base_uri": "https://localhost:8080/",
          "height": 527
        },
        "outputId": "f33e9725-52f6-4ee3-8fc7-6c61a823d42f"
      },
      "source": [
        "error = predicted_price-ds_test.values  \n",
        "\n",
        "print(error)"
      ],
      "execution_count": 57,
      "outputs": [
        {
          "output_type": "stream",
          "text": [
            "[[ -2.265625  ]\n",
            " [ -2.42578125]\n",
            " [ -7.40234375]\n",
            " [-12.5859375 ]\n",
            " [ -8.29296875]\n",
            " [-10.2890625 ]\n",
            " [-20.42578125]\n",
            " [-12.5859375 ]\n",
            " [ -5.828125  ]\n",
            " [ -5.828125  ]\n",
            " [ -4.60546875]\n",
            " [ -5.42578125]\n",
            " [ -6.69140625]\n",
            " [ -5.828125  ]\n",
            " [ -2.1484375 ]\n",
            " [ -6.4453125 ]\n",
            " [ -8.27734375]\n",
            " [-14.70703125]\n",
            " [-18.1640625 ]\n",
            " [-10.08203125]\n",
            " [-11.87890625]\n",
            " [-19.7265625 ]\n",
            " [-14.25390625]\n",
            " [ -5.28515625]\n",
            " [ -4.5546875 ]\n",
            " [ -2.6484375 ]\n",
            " [-12.7890625 ]\n",
            " [-16.33203125]\n",
            " [-14.34375   ]\n",
            " [-21.86328125]]\n"
          ],
          "name": "stdout"
        }
      ]
    },
    {
      "cell_type": "code",
      "metadata": {
        "id": "Dzad-xFor9CE",
        "colab_type": "code",
        "colab": {
          "base_uri": "https://localhost:8080/",
          "height": 85
        },
        "outputId": "746f212c-bd01-4239-d13e-a750f7102ddb"
      },
      "source": [
        "ds_test.values[:,0]"
      ],
      "execution_count": 61,
      "outputs": [
        {
          "output_type": "execute_result",
          "data": {
            "text/plain": [
              "array([41830, 42660, 43270, 43620, 43340, 43480, 44000, 43620, 43130,\n",
              "       43130, 43000, 43090, 43210, 43130, 42590, 41100, 40870, 40150,\n",
              "       39760, 40660, 40460, 39570, 40200, 41260, 41370, 41730, 40360,\n",
              "       39970, 40190, 39280])"
            ]
          },
          "metadata": {
            "tags": []
          },
          "execution_count": 61
        }
      ]
    },
    {
      "cell_type": "code",
      "metadata": {
        "id": "tPophYmMrlVX",
        "colab_type": "code",
        "colab": {
          "base_uri": "https://localhost:8080/",
          "height": 604
        },
        "outputId": "999ccd7d-eff6-4753-b7bb-ecfad84f437e"
      },
      "source": [
        "# Plot the Actual price and the predicted price\n",
        "test_set = ds_test.values\n",
        "plt.figure(figsize=(8, 8), dpi=80, facecolor = 'w', edgecolor = 'k')\n",
        "\n",
        "plt.plot(test_set[:, 0], color='red', label='Real Uniqlo Price')                      # Actual Price\n",
        "plt.plot(predicted_price[:, 0], color = 'blue', label = 'Predicted Close Price')      # Predicted Price\n",
        "\n",
        "plt.title('Uniqlo Price Prediction from 17-11-2016 to 30-12-2016', fontsize = 20)\n",
        "plt.xlabel('Time', fontsize=40)\n",
        "plt.ylabel('Uniqlo Price', fontsize = 40)\n",
        "plt.legend(loc = 'best')\n",
        "plt.show()"
      ],
      "execution_count": 60,
      "outputs": [
        {
          "output_type": "display_data",
          "data": {
            "image/png": "[encoded data removed]",
            "text/plain": [
              "<Figure size 640x640 with 1 Axes>"
            ]
          },
          "metadata": {
            "tags": []
          }
        }
      ]
    },
    {
      "cell_type": "markdown",
      "metadata": {
        "id": "VEL7oKfjs-go",
        "colab_type": "text"
      },
      "source": [
        "Prediction with other test data "
      ]
    },
    {
      "cell_type": "code",
      "metadata": {
        "id": "cKNoFXbutFiG",
        "colab_type": "code",
        "colab": {
          "base_uri": "https://localhost:8080/",
          "height": 266
        },
        "outputId": "250fb644-b721-417e-d039-43951516fcb6"
      },
      "source": [
        "test_data=pd.read_csv(\"Uniqlo(FastRetailing) 2017 Test - stocks2017.csv\") \n",
        "test_data"
      ],
      "execution_count": 63,
      "outputs": [
        {
          "output_type": "execute_result",
          "data": {
            "text/html": [
              "<div>\n",
              "<style scoped>\n",
              "    .dataframe tbody tr th:only-of-type {\n",
              "        vertical-align: middle;\n",
              "    }\n",
              "\n",
              "    .dataframe tbody tr th {\n",
              "        vertical-align: top;\n",
              "    }\n",
              "\n",
              "    .dataframe thead th {\n",
              "        text-align: right;\n",
              "    }\n",
              "</style>\n",
              "<table border=\"1\" class=\"dataframe\">\n",
              "  <thead>\n",
              "    <tr style=\"text-align: right;\">\n",
              "      <th></th>\n",
              "      <th>Date</th>\n",
              "      <th>Open</th>\n",
              "      <th>High</th>\n",
              "      <th>Low</th>\n",
              "      <th>Close</th>\n",
              "      <th>Volume</th>\n",
              "      <th>Stock Trading</th>\n",
              "    </tr>\n",
              "  </thead>\n",
              "  <tbody>\n",
              "    <tr>\n",
              "      <th>0</th>\n",
              "      <td>2017-01-13</td>\n",
              "      <td>38900</td>\n",
              "      <td>39380</td>\n",
              "      <td>38240</td>\n",
              "      <td>38430</td>\n",
              "      <td>1321200</td>\n",
              "      <td>51197289000</td>\n",
              "    </tr>\n",
              "    <tr>\n",
              "      <th>1</th>\n",
              "      <td>2017-01-12</td>\n",
              "      <td>38300</td>\n",
              "      <td>38450</td>\n",
              "      <td>37930</td>\n",
              "      <td>38010</td>\n",
              "      <td>800900</td>\n",
              "      <td>30540359000</td>\n",
              "    </tr>\n",
              "    <tr>\n",
              "      <th>2</th>\n",
              "      <td>2017-01-11</td>\n",
              "      <td>38710</td>\n",
              "      <td>38880</td>\n",
              "      <td>38480</td>\n",
              "      <td>38560</td>\n",
              "      <td>545900</td>\n",
              "      <td>21089798000</td>\n",
              "    </tr>\n",
              "    <tr>\n",
              "      <th>3</th>\n",
              "      <td>2017-01-10</td>\n",
              "      <td>38620</td>\n",
              "      <td>38850</td>\n",
              "      <td>38150</td>\n",
              "      <td>38690</td>\n",
              "      <td>1196900</td>\n",
              "      <td>46107703000</td>\n",
              "    </tr>\n",
              "    <tr>\n",
              "      <th>4</th>\n",
              "      <td>2017-01-06</td>\n",
              "      <td>40500</td>\n",
              "      <td>41030</td>\n",
              "      <td>39720</td>\n",
              "      <td>39720</td>\n",
              "      <td>1435500</td>\n",
              "      <td>57708934000</td>\n",
              "    </tr>\n",
              "    <tr>\n",
              "      <th>5</th>\n",
              "      <td>2017-01-05</td>\n",
              "      <td>43250</td>\n",
              "      <td>43330</td>\n",
              "      <td>42470</td>\n",
              "      <td>42590</td>\n",
              "      <td>516800</td>\n",
              "      <td>22124250000</td>\n",
              "    </tr>\n",
              "    <tr>\n",
              "      <th>6</th>\n",
              "      <td>2017-01-04</td>\n",
              "      <td>42480</td>\n",
              "      <td>43330</td>\n",
              "      <td>42450</td>\n",
              "      <td>43290</td>\n",
              "      <td>648100</td>\n",
              "      <td>27916728000</td>\n",
              "    </tr>\n",
              "  </tbody>\n",
              "</table>\n",
              "</div>"
            ],
            "text/plain": [
              "         Date   Open   High    Low  Close   Volume  Stock Trading\n",
              "0  2017-01-13  38900  39380  38240  38430  1321200    51197289000\n",
              "1  2017-01-12  38300  38450  37930  38010   800900    30540359000\n",
              "2  2017-01-11  38710  38880  38480  38560   545900    21089798000\n",
              "3  2017-01-10  38620  38850  38150  38690  1196900    46107703000\n",
              "4  2017-01-06  40500  41030  39720  39720  1435500    57708934000\n",
              "5  2017-01-05  43250  43330  42470  42590   516800    22124250000\n",
              "6  2017-01-04  42480  43330  42450  43290   648100    27916728000"
            ]
          },
          "metadata": {
            "tags": []
          },
          "execution_count": 63
        }
      ]
    },
    {
      "cell_type": "code",
      "metadata": {
        "id": "FoJG-Bo6tS4C",
        "colab_type": "code",
        "colab": {
          "base_uri": "https://localhost:8080/",
          "height": 153
        },
        "outputId": "f6c4659f-ea12-4de8-e97c-afea376653f1"
      },
      "source": [
        "test_data1=test_data.iloc[:,4]                                                         # Extracting the close price\n",
        "test_data1"
      ],
      "execution_count": 64,
      "outputs": [
        {
          "output_type": "execute_result",
          "data": {
            "text/plain": [
              "0    38430\n",
              "1    38010\n",
              "2    38560\n",
              "3    38690\n",
              "4    39720\n",
              "5    42590\n",
              "6    43290\n",
              "Name: Close, dtype: int64"
            ]
          },
          "metadata": {
            "tags": []
          },
          "execution_count": 64
        }
      ]
    },
    {
      "cell_type": "code",
      "metadata": {
        "id": "pMDLS1-Xtm3J",
        "colab_type": "code",
        "colab": {
          "base_uri": "https://localhost:8080/",
          "height": 374
        },
        "outputId": "24edf8b0-afc3-46ce-96ee-f28d4e438b8d"
      },
      "source": [
        "test_data1=np.array(test_data1)\n",
        "print(test_data1)\n",
        "test_data1 = np.reshape(test_data1, (-1,1)) \n",
        "print(test_data1)\n",
        "test_data_array = min_max_scalar.fit_transform(test_data1)\n",
        "test_data_reshaped = np.reshape(test_data_array, (len(test_data_array),1,1))\n",
        "print(test_data_reshaped)\n"
      ],
      "execution_count": 68,
      "outputs": [
        {
          "output_type": "stream",
          "text": [
            "[38430 38010 38560 38690 39720 42590 43290]\n",
            "[[38430]\n",
            " [38010]\n",
            " [38560]\n",
            " [38690]\n",
            " [39720]\n",
            " [42590]\n",
            " [43290]]\n",
            "[[[0.07954545]]\n",
            "\n",
            " [[0.        ]]\n",
            "\n",
            " [[0.10416667]]\n",
            "\n",
            " [[0.12878788]]\n",
            "\n",
            " [[0.32386364]]\n",
            "\n",
            " [[0.86742424]]\n",
            "\n",
            " [[1.        ]]]\n"
          ],
          "name": "stdout"
        }
      ]
    },
    {
      "cell_type": "code",
      "metadata": {
        "id": "ox_0Pjb_ucjB",
        "colab_type": "code",
        "colab": {}
      },
      "source": [
        "predicted_price = regressor.predict(test_data_reshaped)                              # Make predictions on the test data\n",
        "predicted_price = min_max_scalar.inverse_transform(predicted_price)      # Inverse transform the predicted price"
      ],
      "execution_count": 0,
      "outputs": []
    },
    {
      "cell_type": "code",
      "metadata": {
        "id": "j1-42wLuurr2",
        "colab_type": "code",
        "colab": {
          "base_uri": "https://localhost:8080/",
          "height": 136
        },
        "outputId": "05f3b612-0e5c-4984-d474-26d5d0d2ce2e"
      },
      "source": [
        "predicted_price"
      ],
      "execution_count": 70,
      "outputs": [
        {
          "output_type": "execute_result",
          "data": {
            "text/plain": [
              "array([[38408.703],\n",
              "       [37985.543],\n",
              "       [38539.793],\n",
              "       [38670.918],\n",
              "       [39710.16 ],\n",
              "       [42580.21 ],\n",
              "       [43267.145]], dtype=float32)"
            ]
          },
          "metadata": {
            "tags": []
          },
          "execution_count": 70
        }
      ]
    }
  ]
}